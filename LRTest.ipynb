{
 "cells": [
  {
   "cell_type": "code",
   "id": "initial_id",
   "metadata": {
    "collapsed": true,
    "ExecuteTime": {
     "end_time": "2024-08-23T23:32:24.786930Z",
     "start_time": "2024-08-23T23:32:24.136462Z"
    }
   },
   "source": [
    "import torch\n",
    "import models\n",
    "from sklearn.datasets import make_regression\n",
    "\n",
    "def generate():\n",
    "    X, y = make_regression(n_samples=100, n_features=10, n_informative=5, noise=0.1)\n",
    "    return torch.tensor(X), torch.tensor(y)"
   ],
   "outputs": [],
   "execution_count": 1
  },
  {
   "metadata": {
    "ExecuteTime": {
     "end_time": "2024-08-23T23:32:24.790026Z",
     "start_time": "2024-08-23T23:32:24.787964Z"
    }
   },
   "cell_type": "code",
   "source": "X, y = generate()",
   "id": "3fd23d1c9b1071e6",
   "outputs": [],
   "execution_count": 2
  },
  {
   "metadata": {
    "ExecuteTime": {
     "end_time": "2024-08-23T23:32:24.854712Z",
     "start_time": "2024-08-23T23:32:24.790666Z"
    }
   },
   "cell_type": "code",
   "source": "model = models.linear(y = 6)",
   "id": "84eff826f123a050",
   "outputs": [
    {
     "ename": "ValueError",
     "evalue": "X cannot be None while y is not none, and vice versa. Provide data for or clear both.",
     "output_type": "error",
     "traceback": [
      "\u001B[0;31m---------------------------------------------------------------------------\u001B[0m",
      "\u001B[0;31mValueError\u001B[0m                                Traceback (most recent call last)",
      "Cell \u001B[0;32mIn[3], line 1\u001B[0m\n\u001B[0;32m----> 1\u001B[0m model \u001B[38;5;241m=\u001B[39m \u001B[43mmodels\u001B[49m\u001B[38;5;241;43m.\u001B[39;49m\u001B[43mlinear\u001B[49m\u001B[43m(\u001B[49m\u001B[43my\u001B[49m\u001B[43m \u001B[49m\u001B[38;5;241;43m=\u001B[39;49m\u001B[43m \u001B[49m\u001B[38;5;241;43m6\u001B[39;49m\u001B[43m)\u001B[49m\n",
      "File \u001B[0;32m~/Downloads/MLFromScratch/models.py:8\u001B[0m, in \u001B[0;36mlinear\u001B[0;34m(X, y, lr, epochs)\u001B[0m\n\u001B[1;32m      7\u001B[0m \u001B[38;5;28;01mdef\u001B[39;00m \u001B[38;5;21mlinear\u001B[39m(X \u001B[38;5;241m=\u001B[39m \u001B[38;5;28;01mNone\u001B[39;00m, y \u001B[38;5;241m=\u001B[39m \u001B[38;5;28;01mNone\u001B[39;00m, lr \u001B[38;5;241m=\u001B[39m \u001B[38;5;241m0.01\u001B[39m, epochs \u001B[38;5;241m=\u001B[39m \u001B[38;5;241m100\u001B[39m):\n\u001B[0;32m----> 8\u001B[0m     X, y \u001B[38;5;241m=\u001B[39m \u001B[43mhelper\u001B[49m\u001B[38;5;241;43m.\u001B[39;49m\u001B[43mcheck_X_y\u001B[49m\u001B[43m(\u001B[49m\u001B[43mX\u001B[49m\u001B[43m,\u001B[49m\u001B[43m \u001B[49m\u001B[43my\u001B[49m\u001B[43m)\u001B[49m\n\u001B[1;32m      9\u001B[0m     X, y \u001B[38;5;241m=\u001B[39m helper\u001B[38;5;241m.\u001B[39mtensor_check(X, y)\n\u001B[1;32m     10\u001B[0m     model \u001B[38;5;241m=\u001B[39m classes\u001B[38;5;241m.\u001B[39mLinearRegression(X\u001B[38;5;241m.\u001B[39mshape[\u001B[38;5;241m1\u001B[39m], lr)\n",
      "File \u001B[0;32m~/Downloads/MLFromScratch/helper.py:20\u001B[0m, in \u001B[0;36mcheck_X_y\u001B[0;34m(X, y)\u001B[0m\n\u001B[1;32m     18\u001B[0m \u001B[38;5;28;01mdef\u001B[39;00m \u001B[38;5;21mcheck_X_y\u001B[39m(X, y):\n\u001B[1;32m     19\u001B[0m     \u001B[38;5;28;01mif\u001B[39;00m (X \u001B[38;5;129;01mis\u001B[39;00m \u001B[38;5;28;01mNone\u001B[39;00m) \u001B[38;5;241m^\u001B[39m (y \u001B[38;5;129;01mis\u001B[39;00m \u001B[38;5;28;01mNone\u001B[39;00m):\n\u001B[0;32m---> 20\u001B[0m         \u001B[38;5;28;01mraise\u001B[39;00m \u001B[38;5;167;01mValueError\u001B[39;00m(\u001B[38;5;124m'\u001B[39m\u001B[38;5;124mX cannot be None while y is not none, and vice versa. Provide data for or clear both.\u001B[39m\u001B[38;5;124m'\u001B[39m)\n\u001B[1;32m     21\u001B[0m     \u001B[38;5;28;01melif\u001B[39;00m X \u001B[38;5;129;01mis\u001B[39;00m \u001B[38;5;28;01mNone\u001B[39;00m \u001B[38;5;129;01mand\u001B[39;00m y \u001B[38;5;129;01mis\u001B[39;00m \u001B[38;5;28;01mNone\u001B[39;00m:\n\u001B[1;32m     22\u001B[0m         X, y \u001B[38;5;241m=\u001B[39m generate_data(\u001B[38;5;241m100\u001B[39m, \u001B[38;5;241m1\u001B[39m, \u001B[38;5;241m0.1\u001B[39m)\n",
      "\u001B[0;31mValueError\u001B[0m: X cannot be None while y is not none, and vice versa. Provide data for or clear both."
     ]
    }
   ],
   "execution_count": 3
  }
 ],
 "metadata": {
  "kernelspec": {
   "display_name": "Python 3",
   "language": "python",
   "name": "python3"
  },
  "language_info": {
   "codemirror_mode": {
    "name": "ipython",
    "version": 2
   },
   "file_extension": ".py",
   "mimetype": "text/x-python",
   "name": "python",
   "nbconvert_exporter": "python",
   "pygments_lexer": "ipython2",
   "version": "2.7.6"
  }
 },
 "nbformat": 4,
 "nbformat_minor": 5
}
